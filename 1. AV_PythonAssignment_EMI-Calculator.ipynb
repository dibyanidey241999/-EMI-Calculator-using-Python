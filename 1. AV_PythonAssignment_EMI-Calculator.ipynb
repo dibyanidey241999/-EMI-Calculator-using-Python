{
 "cells": [
  {
   "cell_type": "markdown",
   "id": "c04934e7",
   "metadata": {},
   "source": [
    "# EMI Calculator"
   ]
  },
  {
   "cell_type": "code",
   "execution_count": 15,
   "id": "cac42d47",
   "metadata": {},
   "outputs": [
    {
     "name": "stdout",
     "output_type": "stream",
     "text": [
      "Monthly EMI is=  4778.260421651782\n"
     ]
    }
   ],
   "source": [
    "#Question1\n",
    "\n",
    "def emi_calculator(p, r, t):\n",
    "    r = r / (12 * 100) # one month interest\n",
    "    t = t * 12 # one month period\n",
    "    emi = (p * r * pow(1 + r, t)) / (pow(1 + r, t) - 1)\n",
    "    return emi\n",
    "\n",
    "principal = 500000\n",
    "rate = 8\n",
    "time = 15\n",
    "emi = emi_calculator(principal, rate, time);\n",
    "print(\"Monthly EMI is= \", emi)"
   ]
  },
  {
   "cell_type": "code",
   "execution_count": 16,
   "id": "4a03ce16",
   "metadata": {},
   "outputs": [
    {
     "name": "stdout",
     "output_type": "stream",
     "text": [
      "The principal amount is =  2992806.597657538\n"
     ]
    }
   ],
   "source": [
    "#Question2\n",
    "\n",
    "def emi_calculator(emi, r, t):\n",
    "    r = r / (12 * 100) # one month interest\n",
    "    t = t * 12 # one month period\n",
    "    p = (emi * (pow(1 + r, t) - 1)) / (r * (pow(1 + r, t)))\n",
    "    return p\n",
    "\n",
    "emi = 30000\n",
    "rate = (110/100) * 8\n",
    "time = 15\n",
    "principal = emi_calculator(emi, rate, time);\n",
    "print(\"The principal amount is = \", principal)"
   ]
  },
  {
   "cell_type": "code",
   "execution_count": 17,
   "id": "752fe4bc",
   "metadata": {},
   "outputs": [
    {
     "name": "stdout",
     "output_type": "stream",
     "text": [
      "Monthly EMI is =  29999.999999999996\n",
      "Total Cumulative Interest =  399999.99999999907\n",
      "Interest paid in year 1 = 414997.53403754905\n",
      "Principal paid in year 1 = -54997.53403754911\n",
      "Interest paid in year 2 = 873948.0686373925\n",
      "Principal paid in year 2 = -513948.06863739254\n",
      "Interest paid in year 3 = 1504935.4403026635\n",
      "Principal paid in year 3 = -1144935.4403026635\n",
      "Interest paid in year 4 = 2522177.510191744\n",
      "Principal paid in year 4 = -2162177.510191744\n",
      "Interest paid in year 5 = 4347899.188903758\n",
      "Principal paid in year 5 = -3987899.1889037583\n",
      "Interest paid in year 6 = 7892065.954945121\n",
      "Principal paid in year 6 = -7532065.954945121\n",
      "Interest paid in year 7 = 15244437.872629963\n",
      "Principal paid in year 7 = -14884437.872629963\n",
      "Interest paid in year 8 = 31486302.648627035\n",
      "Principal paid in year 8 = -31126302.648627035\n",
      "Interest paid in year 9 = 69695906.90787718\n",
      "Principal paid in year 9 = -69335906.90787718\n",
      "Interest paid in year 10 = 165557223.25002605\n",
      "Principal paid in year 10 = -165197223.25002605\n",
      "Interest paid in year 11 = 422480272.63111395\n",
      "Principal paid in year 11 = -422120272.63111395\n",
      "Interest paid in year 12 = 1159346894.4820228\n",
      "Principal paid in year 12 = -1158986894.4820228\n",
      "Interest paid in year 13 = 3424326787.778739\n",
      "Principal paid in year 13 = -3423966787.778739\n",
      "Interest paid in year 14 = 10895813619.05983\n",
      "Principal paid in year 14 = -10895453619.05983\n",
      "Interest paid in year 15 = 37375513268.2451\n",
      "Principal paid in year 15 = -37375153268.2451\n"
     ]
    }
   ],
   "source": [
    "#question 3\n",
    "\n",
    "def emi_calculator(p, r, t):\n",
    "    r = r / (12 * 100) # one month interest\n",
    "    t = t * 12 # one month period\n",
    "    emi = (p * r * pow(1 + r, t)) / (pow(1 + r, t) - 1)\n",
    "    return emi\n",
    "\n",
    "\n",
    "p = 5000000\n",
    "r = 8\n",
    "t = 15\n",
    "\n",
    "emi = emi_calculator(principal, rate, time)\n",
    "print(\"Monthly EMI is = \", emi)\n",
    "\n",
    "total_interest = (emi * 15 * 12) - p\n",
    "print('Total Cumulative Interest = ', total_interest)\n",
    "\n",
    "rem_p = p\n",
    "r = 8/100\n",
    "emi = emi * 12\n",
    "\n",
    "for n in range(1, 16):\n",
    "    i = rem_p * pow((1 + (r / 12)), 12*n) - rem_p\n",
    "    p1 = emi - i\n",
    "    rem_p = rem_p - p1\n",
    "    print('Interest paid in year {} = {}'.format(n, i))\n",
    "    print('Principal paid in year {} = {}'.format(n, p1))\n",
    "    "
   ]
  },
  {
   "cell_type": "code",
   "execution_count": null,
   "id": "5700338f",
   "metadata": {},
   "outputs": [],
   "source": []
  }
 ],
 "metadata": {
  "kernelspec": {
   "display_name": "Python 3",
   "language": "python",
   "name": "python3"
  },
  "language_info": {
   "codemirror_mode": {
    "name": "ipython",
    "version": 3
   },
   "file_extension": ".py",
   "mimetype": "text/x-python",
   "name": "python",
   "nbconvert_exporter": "python",
   "pygments_lexer": "ipython3",
   "version": "3.8.8"
  }
 },
 "nbformat": 4,
 "nbformat_minor": 5
}
